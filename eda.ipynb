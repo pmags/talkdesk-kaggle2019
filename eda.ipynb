{
 "cells": [
  {
   "cell_type": "code",
   "execution_count": 0,
   "metadata": {},
   "outputs": [],
   "source": [
    "\n",
    "# import libraries\n",
    "import matplotlib.pyplot as plt\n",
    "import numpy as np\n",
    "import pandas as pd\n"
   ]
  },
  {
   "cell_type": "markdown",
   "metadata": {},
   "source": [
    "# Challenge and variables description\n",
    "\n",
    "## Problem\n",
    "\n",
    "The number of agents available is crucial to the Contact Center success operation, where a low number of agents will lead to long waiting queues for the contacts and a high number will increase the operation cost by having agents doing nothing.\n",
    "\n",
    "**The dataset corresponds to Contact Center metrics aggregated in 15 minutes intervals for a real Talkdesk client between 2017-01-01 and 2018-11-30 (23 months), and the competition goal is to forecast the number of agents for the days between 2018-12-01 and 2018-12-31 (1 month).**\n",
    "\n",
    "## Features\n",
    "\n",
    "The following information is provided with the data:\n",
    "\n",
    "- *Interval* - the date and time corresponding to the contact center activity. This is given on a 15 min interval. \n",
    "\n",
    "### Events:\n",
    "\n",
    "During the initial presentation we learnt that talkdesk runs an \"event\" based operation. **A call is an event, and event triggers actions. The duration of each event is a restriction to the number of workers.** \n",
    "\n",
    "For each event information about quantity and duration is given:\n",
    "\n",
    "- *Total Calls* - the number of calls. This represents the total amount of calls received during the time period. For example `r paste(\"between\",data$interval[1],\"and\",data$interval[1],\"this specific costumer received \", data$total_calls[1], \"calls\")`. \n",
    "\n",
    "- *Total Calls Duration* - the duration of a calls in seconds. This means `r paste(\"that on the\", data$interval[1],\"a total of\",data$total_calls[1],\"where received and took the total of\",data$total_calls_duration[1], \"seconds or in hours\", data$total_calls_duration[1]/3600)`\n",
    "\n",
    "- *Abandoned Calls* / *missing_calls*  - the number of calls that reach Talkdesk platform but hung up before it was answered by an agent. No further information regarding the reason why the call was missed is given. This may or may not impact the solution. For example, if miss calls are due to all operators being occupied, then, in order to maximize the service it may pay off the hire an extra worker.\n",
    "\n",
    "> This feature raises the question of how long is an event. It makes sense that we take into account that one event requires a 1. setup time, an 2. execution time, a 3. after event task and probably a 4. cool down between events. \n",
    "\n",
    "### Workers:\n",
    "\n",
    "Being a service, \"events\" take time as raw material to be completed. This time is provided by workers which can supply a limited amount of it per day. The data provides us information regarding quantity for each time interval (headcount and available time) and how it is distributed by \"tasks\". \n",
    "\n",
    "From the information provided we can deduce \n",
    "\n",
    "\n",
    "### Metrics:\n"
   ]
  }
 ],
 "metadata": {
  "file_extension": ".py",
  "kernelspec": {
   "display_name": "Python 3",
   "language": "python",
   "name": "python3"
  },
  "language_info": {
   "codemirror_mode": {
    "name": "ipython",
    "version": 3
   },
   "file_extension": ".py",
   "mimetype": "text/x-python",
   "name": "python",
   "nbconvert_exporter": "python",
   "pygments_lexer": "ipython3",
   "version": "3.6.9"
  },
  "mimetype": "text/x-python",
  "name": "python",
  "npconvert_exporter": "python",
  "pygments_lexer": "ipython3",
  "version": 3
 },
 "nbformat": 4,
 "nbformat_minor": 2
}
